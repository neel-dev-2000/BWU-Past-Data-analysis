{
 "cells": [
  {
   "cell_type": "markdown",
   "id": "4b04bca2-5d56-46e1-bf12-497eb5891f19",
   "metadata": {},
   "source": [
    "# Data Collection from CSV"
   ]
  },
  {
   "cell_type": "code",
   "execution_count": 1,
   "id": "f7cdd6fb-5bbe-4ee9-b50c-77155b4149da",
   "metadata": {},
   "outputs": [],
   "source": [
    "import pandas as pd\n",
    "import warnings"
   ]
  },
  {
   "cell_type": "code",
   "execution_count": 2,
   "id": "e9c1543d-146b-440f-8f45-50fdba9b29ec",
   "metadata": {},
   "outputs": [],
   "source": [
    "# Suppress all warnings\n",
    "warnings.filterwarnings(\"ignore\")"
   ]
  },
  {
   "cell_type": "code",
   "execution_count": 3,
   "id": "cbbc2f54-c4eb-4351-b8a9-01f47747f475",
   "metadata": {},
   "outputs": [],
   "source": [
    "df1=pd.read_csv(\"../Datasets/2023.csv\") #2023 data\n",
    "df2=pd.read_csv(\"../datasets/2024.csv\") #2024 data"
   ]
  },
  {
   "cell_type": "code",
   "execution_count": 4,
   "id": "050298d3-f369-4077-b072-69eec630c19e",
   "metadata": {},
   "outputs": [
    {
     "name": "stdout",
     "output_type": "stream",
     "text": [
      "(8760, 64)\n",
      "(8628, 64)\n"
     ]
    }
   ],
   "source": [
    "print(df1.shape)\n",
    "print(df2.shape)"
   ]
  },
  {
   "cell_type": "markdown",
   "id": "53fb16ed-c858-4358-8bc8-82f2048e6811",
   "metadata": {},
   "source": [
    "# Combining both datasets"
   ]
  },
  {
   "cell_type": "code",
   "execution_count": 5,
   "id": "0dc07945-e809-4151-9df4-c48359627c4f",
   "metadata": {},
   "outputs": [],
   "source": [
    "df=pd.concat([df1,df2],ignore_index=True)"
   ]
  },
  {
   "cell_type": "code",
   "execution_count": 6,
   "id": "23b85a9d-2827-40d7-a6ac-a02b0b61ce9e",
   "metadata": {},
   "outputs": [
    {
     "data": {
      "text/plain": [
       "(17388, 64)"
      ]
     },
     "execution_count": 6,
     "metadata": {},
     "output_type": "execute_result"
    }
   ],
   "source": [
    "df.shape"
   ]
  },
  {
   "cell_type": "code",
   "execution_count": 7,
   "id": "237781de-b72f-4f25-a07d-fc33a7e95ab4",
   "metadata": {},
   "outputs": [
    {
     "name": "stdout",
     "output_type": "stream",
     "text": [
      "<class 'pandas.core.frame.DataFrame'>\n",
      "RangeIndex: 17388 entries, 0 to 17387\n",
      "Data columns (total 64 columns):\n",
      " #   Column                       Non-Null Count  Dtype  \n",
      "---  ------                       --------------  -----  \n",
      " 0   Date                         17388 non-null  object \n",
      " 1   Responsible Person           17388 non-null  object \n",
      " 2   Generated From               1751 non-null   object \n",
      " 3   Session / Year               17388 non-null  int64  \n",
      " 4   Session Type                 17388 non-null  object \n",
      " 5   Name                         17388 non-null  object \n",
      " 6   Gender                       17388 non-null  object \n",
      " 7   Status                       17388 non-null  object \n",
      " 8   Admission Type               12439 non-null  object \n",
      " 9   Paid Booking Date            2298 non-null   object \n",
      " 10  Admission Date               12439 non-null  object \n",
      " 11  Dropout Date                 5874 non-null   object \n",
      " 12  Dropout Reason               2111 non-null   object \n",
      " 13  Guardian Name                17388 non-null  object \n",
      " 14  Guardian Phone No.           0 non-null      float64\n",
      " 15  Phone No.                    17388 non-null  object \n",
      " 16  Application Code             17388 non-null  object \n",
      " 17  Student Code                 12566 non-null  object \n",
      " 18  Country                      17388 non-null  object \n",
      " 19  State                        17388 non-null  object \n",
      " 20  District                     17388 non-null  object \n",
      " 21  Location                     13024 non-null  object \n",
      " 22  PIN Code                     17388 non-null  int64  \n",
      " 23  Address                      9366 non-null   object \n",
      " 24  Interested Course            17388 non-null  object \n",
      " 25  Weight Type                  17388 non-null  object \n",
      " 26  Weight Point                 17388 non-null  int64  \n",
      " 27  Prefered Slot1               17388 non-null  object \n",
      " 28  Prefered Slot2               17388 non-null  object \n",
      " 29  Course Type                  17388 non-null  object \n",
      " 30  Course Value (Rs.)           17388 non-null  int64  \n",
      " 31  1st Sem. Course Value (Rs.)  17388 non-null  int64  \n",
      " 32  1st Year Course Value (Rs.)  17388 non-null  int64  \n",
      " 33  Scholarship Amount           17388 non-null  int64  \n",
      " 34  Scholarship Type             12090 non-null  object \n",
      " 35  Remarks                      0 non-null      float64\n",
      " 36  Source                       17388 non-null  object \n",
      " 37  Source Category              17388 non-null  object \n",
      " 38  Source Details               2192 non-null   object \n",
      " 39  Agent                        8493 non-null   object \n",
      " 40  Agent Amount                 17388 non-null  int64  \n",
      " 41  Admission by                 17383 non-null  object \n",
      " 42  Counselling By               20 non-null     object \n",
      " 43  Admission Kit Issued         17388 non-null  object \n",
      " 44  Total Booking Amount         17365 non-null  float64\n",
      " 45  Qualification Type           1 non-null      object \n",
      " 46  Qualification Exam           0 non-null      float64\n",
      " 47  Year of Passing / Appearing  17388 non-null  object \n",
      " 48  Percentage of Marks          17388 non-null  object \n",
      " 49  School / College             0 non-null      float64\n",
      " 50  Board / University           0 non-null      float64\n",
      " 51  WBUT / MAKAUT Examination    0 non-null      float64\n",
      " 52  Appearing Month              0 non-null      float64\n",
      " 53  Appearing Year               17388 non-null  int64  \n",
      " 54  Rank                         0 non-null      float64\n",
      " 55  Score                        17388 non-null  object \n",
      " 56  Interested For Bank Loan     0 non-null      float64\n",
      " 57  Name of the Bank             0 non-null      float64\n",
      " 58  Any Discrepancies            0 non-null      float64\n",
      " 59  Admission Under              17388 non-null  object \n",
      " 60  eMail                        17388 non-null  object \n",
      " 61  Agent PAN No.                7952 non-null   object \n",
      " 62  Agent Adhar No.              8204 non-null   object \n",
      " 63  Student Adhar No.            0 non-null      float64\n",
      "dtypes: float64(13), int64(9), object(42)\n",
      "memory usage: 8.5+ MB\n"
     ]
    }
   ],
   "source": [
    "df.info()"
   ]
  },
  {
   "cell_type": "markdown",
   "id": "4f776230-c5f4-48e4-9667-fe6a6655b93c",
   "metadata": {},
   "source": [
    "# Exporting the combined dataset"
   ]
  },
  {
   "cell_type": "code",
   "execution_count": 8,
   "id": "d154d6ad-912b-4e35-8f91-41881d5b5a6c",
   "metadata": {},
   "outputs": [
    {
     "name": "stdout",
     "output_type": "stream",
     "text": [
      "Files Exported\n"
     ]
    }
   ],
   "source": [
    "#exporting the complete combined data\n",
    "df.to_csv(\"../Datasets/Combined_Data.csv\")\n",
    "\n",
    "#exporting dataset with selected columns\n",
    "df.to_csv(\"../Datasets/combined_Selected_Data.csv\", columns=[\"Date\",\"Responsible Person\",\"Session / Year\",\"Gender\",\"Status\",\"Paid Booking Date\",\"Admission Date\",\"Dropout Date\",\"Application Code\",\"Country\",\"State\",\"Interested Course\",\"Source\",\"Source Category\",\"Agent\",\"Admission Under\"], index=False)\n",
    "print(\"Files Exported\")"
   ]
  }
 ],
 "metadata": {
  "kernelspec": {
   "display_name": "Python 3 (ipykernel)",
   "language": "python",
   "name": "python3"
  },
  "language_info": {
   "codemirror_mode": {
    "name": "ipython",
    "version": 3
   },
   "file_extension": ".py",
   "mimetype": "text/x-python",
   "name": "python",
   "nbconvert_exporter": "python",
   "pygments_lexer": "ipython3",
   "version": "3.13.7"
  }
 },
 "nbformat": 4,
 "nbformat_minor": 5
}
